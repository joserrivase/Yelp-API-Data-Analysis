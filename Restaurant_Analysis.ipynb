{
  "metadata": {
    "kernelspec": {
      "name": "python",
      "display_name": "Python (Pyodide)",
      "language": "python"
    },
    "language_info": {
      "codemirror_mode": {
        "name": "python",
        "version": 3
      },
      "file_extension": ".py",
      "mimetype": "text/x-python",
      "name": "python",
      "nbconvert_exporter": "python",
      "pygments_lexer": "ipython3",
      "version": "3.8"
    }
  },
  "nbformat_minor": 4,
  "nbformat": 4,
  "cells": [
    {
      "cell_type": "code",
      "source": "import requests\nimport pandas as pd\noffset = 0\ndef add_restaurants(query):\n    results = {'ID': [],'Name': [], 'Reviews': [],'Categories': [],'Rating': [], 'Coordinates': [], 'Price': [], 'Location': [],'Phone_Number': [], 'Hours': []}\n    for q in query:\n        results['ID'].append(q['id'])\n        results['Name'].append(q['name'])\n        results['Reviews'].append(q['review_count'])\n        results['Categories'].append(q['categories'])\n        try:\n            results['Rating'].append(q['rating'])\n        except:\n            results['Rating'].append(None)\n        results['Coordinates'].append(q['coordinates'])\n        try:\n            results['Price'].append(q['price'])\n        except:\n            results['Price'].append(None)\n        results['Location'].append(q['location'])\n        results['Phone_Number'].append(q['phone'])\n        results['Hours'].append(q['business_hours'])\n    return pd.DataFrame(results)\ndef clean_columns(dataframe):\n    df = dataframe\n    df['Categories'] = df['Categories'].apply(lambda x: [category['title'] for category in x])\n    df['Latitude'] = df['Coordinates'].apply(lambda x: x['latitude'])\n    df['Longitude'] = df['Coordinates'].apply(lambda x: x['longitude'])\n    df['Street'] = df['Location'].apply(lambda x: x['address1'])\n    df['City'] = df['Location'].apply(lambda x: x['city'])\n    df['Zip_code'] = df['Location'].apply(lambda x: x['zip_code'])\n    df['Country'] = df['Location'].apply(lambda x: x['country'])\n    df['State'] = df['Location'].apply(lambda x: x['state'])\n    df = df.assign(category=df['Categories'].str.split(', ')).explode('Categories')\n    df = df.drop(columns=['category'])\n    return df\ndef API_call(main_df):\n    global offset\n    url = 'https://api.yelp.com/v3/businesses/search'\n    key = 'T9ZNtvf1zp_0iShfjFRrieHw4T_u7hPXosPrb5H2ynVM-DZblw-Nn8SY7-ybSGs_1fta7wlohfJQjrPa9ocUTFttbvfs42V5ed-j86OwoZXh-yI9qY_OuJezQujpZnYx'\n    headers = {'Authorization':'Bearer %s' % key}\n    parameters = {'location':'Orlando, FL','term':'restaurant','limit':50,'offset':offset}\n    response = requests.get(url,headers=headers,params=parameters)\n    query = response.json()['businesses']\n    \n    new_df = add_restaurants(query)\n    new_df = clean_columns(new_df)\n    merged_df = pd.concat([main_df, new_df]).drop_duplicates(subset=['ID','Categories'], keep='first')\n    offset += 50 \n    return merged_df\n\ndf = pd.DataFrame()\ndf = API_call(df)\ndf = API_call(df)",
      "metadata": {
        "trusted": true
      },
      "outputs": [],
      "execution_count": 30
    },
    {
      "cell_type": "code",
      "source": "df.info() \ndf.describe() \nprint(df.head()) ",
      "metadata": {
        "trusted": true
      },
      "outputs": [
        {
          "name": "stdout",
          "text": "<class 'pandas.core.frame.DataFrame'>\nIndex: 236 entries, 0 to 49\nData columns (total 17 columns):\n #   Column        Non-Null Count  Dtype  \n---  ------        --------------  -----  \n 0   ID            236 non-null    object \n 1   Name          236 non-null    object \n 2   Reviews       236 non-null    int64  \n 3   Categories    236 non-null    object \n 4   Rating        236 non-null    float64\n 5   Coordinates   236 non-null    object \n 6   Price         181 non-null    float64\n 7   Location      236 non-null    object \n 8   Phone_Number  236 non-null    object \n 9   Hours         236 non-null    object \n 10  Latitude      236 non-null    float64\n 11  Longitude     236 non-null    float64\n 12  Street        233 non-null    object \n 13  City          236 non-null    object \n 14  Zip_code      236 non-null    object \n 15  Country       236 non-null    object \n 16  State         236 non-null    object \ndtypes: float64(4), int64(1), object(12)\nmemory usage: 22.1+ KB\n                       ID              Name  Reviews             Categories  \\\n0  HDgJF9KaoB772k0LEgnUfg  Delaney's Tavern      687           New american   \n0  HDgJF9KaoB772k0LEgnUfg  Delaney's Tavern      687          Cocktail bars   \n0  HDgJF9KaoB772k0LEgnUfg  Delaney's Tavern      687  Venues & event spaces   \n1  XxixtrEXLI9Rr1Ojaq70Zw    The Waterfront      468                Seafood   \n1  XxixtrEXLI9Rr1Ojaq70Zw    The Waterfront      468               American   \n\n   Rating                                        Coordinates  Price  \\\n0     4.5  {'latitude': 28.5259940946324, 'longitude': -8...    2.0   \n0     4.5  {'latitude': 28.5259940946324, 'longitude': -8...    2.0   \n0     4.5  {'latitude': 28.5259940946324, 'longitude': -8...    2.0   \n1     4.1      {'latitude': 28.4978, 'longitude': -81.37511}    2.0   \n1     4.1      {'latitude': 28.4978, 'longitude': -81.37511}    2.0   \n\n                                            Location  Phone_Number  \\\n0  {'address1': '1315 S Orange Ave', 'address2': ...  +14078490801   \n0  {'address1': '1315 S Orange Ave', 'address2': ...  +14078490801   \n0  {'address1': '1315 S Orange Ave', 'address2': ...  +14078490801   \n1  {'address1': '4201 S Orange Ave', 'address2': ...  +14078660468   \n1  {'address1': '4201 S Orange Ave', 'address2': ...  +14078660468   \n\n                                               Hours   Latitude  Longitude  \\\n0  [{'open': [{'is_overnight': False, 'start': '0...  28.525994 -81.376159   \n0  [{'open': [{'is_overnight': False, 'start': '0...  28.525994 -81.376159   \n0  [{'open': [{'is_overnight': False, 'start': '0...  28.525994 -81.376159   \n1  [{'open': [{'is_overnight': False, 'start': '1...  28.497800 -81.375110   \n1  [{'open': [{'is_overnight': False, 'start': '1...  28.497800 -81.375110   \n\n              Street     City Zip_code Country State  \n0  1315 S Orange Ave  Orlando    32806      US    FL  \n0  1315 S Orange Ave  Orlando    32806      US    FL  \n0  1315 S Orange Ave  Orlando    32806      US    FL  \n1  4201 S Orange Ave  Orlando    32806      US    FL  \n1  4201 S Orange Ave  Orlando    32806      US    FL  \n",
          "output_type": "stream"
        }
      ],
      "execution_count": 56
    },
    {
      "cell_type": "code",
      "source": "df['Rating'].unique() ",
      "metadata": {
        "trusted": true
      },
      "outputs": [
        {
          "execution_count": 38,
          "output_type": "execute_result",
          "data": {
            "text/plain": "array([4.5, 4.1, 4.4, 4.7, 5. , 4.2, 4.3, 4.9, 4.6, 4.8, 4. , 3.8, 3.3,\n       3.7, 3.9, 2.2, 3.1])"
          },
          "metadata": {}
        }
      ],
      "execution_count": 38
    },
    {
      "cell_type": "code",
      "source": "df['Categories'].unique() ",
      "metadata": {
        "trusted": true
      },
      "outputs": [
        {
          "execution_count": 39,
          "output_type": "execute_result",
          "data": {
            "text/plain": "array(['New American', 'Cocktail Bars', 'Venues & Event Spaces',\n       'Seafood', 'American', 'Breakfast & Brunch', 'Southern',\n       'Chicken Wings', 'Bars', 'Tapas Bars', 'Japanese', 'Noodles',\n       'Indian', 'German', 'Modern European', 'Haitian', 'Comfort Food',\n       'Beer Bar', 'Barbeque', 'Soul Food', 'Pizza', 'Italian',\n       'Tapas/Small Plates', 'Pubs', 'Sports Bars', 'Tacos', 'Peruvian',\n       'Colombian', 'Empanadas', 'Turkish', 'Halal', 'Mediterranean',\n       'Filipino', 'Sandwiches', 'Latin American', 'Pan Asian', 'Chinese',\n       'Chicken Shop', 'Hawaiian', 'Juice Bars & Smoothies', 'Salad',\n       'Acai Bowls', 'Mexican', 'Sushi Bars', 'Whiskey Bars',\n       'Cajun/Creole', 'Cafes', 'Diners', 'Steakhouses', 'Burgers',\n       'Brazilian', 'French', 'Vietnamese', 'Hot Dogs', 'Wine Bars',\n       'Food Trucks', 'Caterers', 'Izakaya', 'Seafood Markets',\n       'Szechuan', 'Thai', 'Lounges', 'Dim Sum', 'Middle Eastern',\n       'Wraps', 'Asian Fusion', 'Soup', 'Music Venues', 'Delis',\n       'Street Vendors', 'Taiwanese', 'Uzbek', 'Laotian', 'Desserts',\n       'Spanish', 'Korean', 'Hot Pot', 'Ramen', 'Bubble Tea',\n       'Food Delivery Services', 'Waffles'], dtype=object)"
          },
          "metadata": {}
        }
      ],
      "execution_count": 39
    },
    {
      "cell_type": "code",
      "source": "df['Price'].unique() ",
      "metadata": {
        "trusted": true
      },
      "outputs": [
        {
          "execution_count": 40,
          "output_type": "execute_result",
          "data": {
            "text/plain": "array(['$$', None, '$$$', '$$$$', '$'], dtype=object)"
          },
          "metadata": {}
        }
      ],
      "execution_count": 40
    },
    {
      "cell_type": "code",
      "source": "df['Zip_code'].unique() ",
      "metadata": {
        "trusted": true
      },
      "outputs": [
        {
          "execution_count": 42,
          "output_type": "execute_result",
          "data": {
            "text/plain": "array(['32806', '32801', '32809', '32803', '32839', '32837', '32819',\n       '32825', '32808', '32822', '32811', '32814', '32789', '32821',\n       '32804', '32832'], dtype=object)"
          },
          "metadata": {}
        }
      ],
      "execution_count": 42
    },
    {
      "cell_type": "code",
      "source": "df.isnull().sum()",
      "metadata": {
        "trusted": true
      },
      "outputs": [
        {
          "execution_count": 41,
          "output_type": "execute_result",
          "data": {
            "text/plain": "ID               0\nName             0\nReviews          0\nCategories       0\nRating           0\nCoordinates      0\nPrice           55\nLocation         0\nPhone_Number     0\nHours            0\nLatitude         0\nLongitude        0\nStreet           3\nCity             0\nZip_code         0\nCountry          0\nState            0\ndtype: int64"
          },
          "metadata": {}
        }
      ],
      "execution_count": 41
    },
    {
      "cell_type": "code",
      "source": "df['Categories'] = df['Categories'].str.capitalize()",
      "metadata": {
        "trusted": true
      },
      "outputs": [],
      "execution_count": 45
    },
    {
      "cell_type": "code",
      "source": "df.drop_duplicates(subset=['ID', 'Categories'], keep='first', inplace=True)",
      "metadata": {
        "trusted": true
      },
      "outputs": [],
      "execution_count": 48
    },
    {
      "cell_type": "code",
      "source": "import matplotlib",
      "metadata": {
        "trusted": true
      },
      "outputs": [],
      "execution_count": 50
    },
    {
      "cell_type": "code",
      "source": "df.boxplot(column=['Rating'])",
      "metadata": {
        "trusted": true
      },
      "outputs": [
        {
          "execution_count": 51,
          "output_type": "execute_result",
          "data": {
            "text/plain": "<AxesSubplot:>"
          },
          "metadata": {}
        },
        {
          "output_type": "display_data",
          "data": {
            "text/plain": "<Figure size 640x480 with 1 Axes>",
            "image/png": "[encoded data removed]"
          },
          "metadata": {}
        }
      ],
      "execution_count": 51
    },
    {
      "cell_type": "code",
      "source": "df['Rating'] = df['Rating'].astype(float)",
      "metadata": {
        "trusted": true
      },
      "outputs": [],
      "execution_count": 53
    },
    {
      "cell_type": "code",
      "source": "price_map = {'$': 1, '$$': 2, '$$$': 3, '$$$$': 4}\ndf['Price'] = df['Price'].map(price_map)",
      "metadata": {
        "trusted": true
      },
      "outputs": [],
      "execution_count": 54
    },
    {
      "cell_type": "code",
      "source": "df['Price'].unique() ",
      "metadata": {
        "trusted": true
      },
      "outputs": [
        {
          "execution_count": 55,
          "output_type": "execute_result",
          "data": {
            "text/plain": "array([ 2., nan,  3.,  4.,  1.])"
          },
          "metadata": {}
        }
      ],
      "execution_count": 55
    },
    {
      "cell_type": "code",
      "source": "df.info() \ndf.describe() \nprint(df.head()) ",
      "metadata": {
        "trusted": true
      },
      "outputs": [
        {
          "name": "stdout",
          "text": "<class 'pandas.core.frame.DataFrame'>\nIndex: 236 entries, 0 to 49\nData columns (total 17 columns):\n #   Column        Non-Null Count  Dtype  \n---  ------        --------------  -----  \n 0   ID            236 non-null    object \n 1   Name          236 non-null    object \n 2   Reviews       236 non-null    int64  \n 3   Categories    236 non-null    object \n 4   Rating        236 non-null    float64\n 5   Coordinates   236 non-null    object \n 6   Price         181 non-null    float64\n 7   Location      236 non-null    object \n 8   Phone_Number  236 non-null    object \n 9   Hours         236 non-null    object \n 10  Latitude      236 non-null    float64\n 11  Longitude     236 non-null    float64\n 12  Street        233 non-null    object \n 13  City          236 non-null    object \n 14  Zip_code      236 non-null    object \n 15  Country       236 non-null    object \n 16  State         236 non-null    object \ndtypes: float64(4), int64(1), object(12)\nmemory usage: 22.1+ KB\n                       ID              Name  Reviews             Categories  \\\n0  HDgJF9KaoB772k0LEgnUfg  Delaney's Tavern      687           New american   \n0  HDgJF9KaoB772k0LEgnUfg  Delaney's Tavern      687          Cocktail bars   \n0  HDgJF9KaoB772k0LEgnUfg  Delaney's Tavern      687  Venues & event spaces   \n1  XxixtrEXLI9Rr1Ojaq70Zw    The Waterfront      468                Seafood   \n1  XxixtrEXLI9Rr1Ojaq70Zw    The Waterfront      468               American   \n\n   Rating                                        Coordinates  Price  \\\n0     4.5  {'latitude': 28.5259940946324, 'longitude': -8...    2.0   \n0     4.5  {'latitude': 28.5259940946324, 'longitude': -8...    2.0   \n0     4.5  {'latitude': 28.5259940946324, 'longitude': -8...    2.0   \n1     4.1      {'latitude': 28.4978, 'longitude': -81.37511}    2.0   \n1     4.1      {'latitude': 28.4978, 'longitude': -81.37511}    2.0   \n\n                                            Location  Phone_Number  \\\n0  {'address1': '1315 S Orange Ave', 'address2': ...  +14078490801   \n0  {'address1': '1315 S Orange Ave', 'address2': ...  +14078490801   \n0  {'address1': '1315 S Orange Ave', 'address2': ...  +14078490801   \n1  {'address1': '4201 S Orange Ave', 'address2': ...  +14078660468   \n1  {'address1': '4201 S Orange Ave', 'address2': ...  +14078660468   \n\n                                               Hours   Latitude  Longitude  \\\n0  [{'open': [{'is_overnight': False, 'start': '0...  28.525994 -81.376159   \n0  [{'open': [{'is_overnight': False, 'start': '0...  28.525994 -81.376159   \n0  [{'open': [{'is_overnight': False, 'start': '0...  28.525994 -81.376159   \n1  [{'open': [{'is_overnight': False, 'start': '1...  28.497800 -81.375110   \n1  [{'open': [{'is_overnight': False, 'start': '1...  28.497800 -81.375110   \n\n              Street     City Zip_code Country State  \n0  1315 S Orange Ave  Orlando    32806      US    FL  \n0  1315 S Orange Ave  Orlando    32806      US    FL  \n0  1315 S Orange Ave  Orlando    32806      US    FL  \n1  4201 S Orange Ave  Orlando    32806      US    FL  \n1  4201 S Orange Ave  Orlando    32806      US    FL  \n",
          "output_type": "stream"
        }
      ],
      "execution_count": 57
    },
    {
      "cell_type": "code",
      "source": "df['Price'].fillna(df['Price'].median(), inplace=True)",
      "metadata": {
        "trusted": true
      },
      "outputs": [],
      "execution_count": 59
    },
    {
      "cell_type": "code",
      "source": "df.isnull().sum()",
      "metadata": {
        "trusted": true
      },
      "outputs": [
        {
          "execution_count": 60,
          "output_type": "execute_result",
          "data": {
            "text/plain": "ID              0\nName            0\nReviews         0\nCategories      0\nRating          0\nCoordinates     0\nPrice           0\nLocation        0\nPhone_Number    0\nHours           0\nLatitude        0\nLongitude       0\nStreet          3\nCity            0\nZip_code        0\nCountry         0\nState           0\ndtype: int64"
          },
          "metadata": {}
        }
      ],
      "execution_count": 60
    },
    {
      "cell_type": "code",
      "source": "df['Price'] = df['Price'].astype(int)",
      "metadata": {
        "trusted": true
      },
      "outputs": [],
      "execution_count": 61
    },
    {
      "cell_type": "code",
      "source": "df['Street'] = df['Street'].fillna('Unknown')",
      "metadata": {
        "trusted": true
      },
      "outputs": [],
      "execution_count": 64
    },
    {
      "cell_type": "code",
      "source": "df.isnull().sum()",
      "metadata": {
        "trusted": true
      },
      "outputs": [
        {
          "execution_count": 65,
          "output_type": "execute_result",
          "data": {
            "text/plain": "ID              0\nName            0\nReviews         0\nCategories      0\nRating          0\nCoordinates     0\nPrice           0\nLocation        0\nPhone_Number    0\nHours           0\nLatitude        0\nLongitude       0\nStreet          0\nCity            0\nZip_code        0\nCountry         0\nState           0\ndtype: int64"
          },
          "metadata": {}
        }
      ],
      "execution_count": 65
    },
    {
      "cell_type": "code",
      "source": "",
      "metadata": {
        "trusted": true
      },
      "outputs": [],
      "execution_count": null
    }
  ]
}